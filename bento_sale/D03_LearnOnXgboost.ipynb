{
 "cells": [
  {
   "cell_type": "code",
   "execution_count": null,
   "metadata": {},
   "outputs": [],
   "source": [
    "import pandas as pd\n",
    "import numpy as np\n",
    "from sklearn.ensemble import RandomForestClassifier\n",
    "from sklearn.model_selection import GridSearchCV\n",
    "from sklearn.svm import SVC\n",
    "from sklearn import metrics\n",
    "from sklearn.model_selection import cross_validate\n",
    "from sklearn.model_selection import train_test_split\n",
    "from sklearn.metrics import classification_report, roc_auc_score, precision_recall_curve, auc, roc_curve\n",
    "import xgboost as xgb"
   ]
  },
  {
   "cell_type": "code",
   "execution_count": null,
   "metadata": {},
   "outputs": [],
   "source": [
    "train_df = pd.read_csv(\"./C01_train_df_encode.csv\")\n",
    "#train_df.info()"
   ]
  },
  {
   "cell_type": "code",
   "execution_count": null,
   "metadata": {},
   "outputs": [],
   "source": [
    "#train_df.head(5)"
   ]
  },
  {
   "cell_type": "code",
   "execution_count": null,
   "metadata": {},
   "outputs": [],
   "source": [
    "# 全体の30%は検証用\n",
    "train_data = train_df.values\n",
    "X = train_data[:, 2:]  # 正解データ列以外を抽出\n",
    "Y = train_data[:, 1]  # 正解データ列のみ抽出\n",
    "\n",
    "#　trainデータとtestデータに分割\n",
    "X_train, X_eval, y_train, y_eval = train_test_split(X, Y, test_size = 0.3, random_state = 0)"
   ]
  },
  {
   "cell_type": "code",
   "execution_count": null,
   "metadata": {},
   "outputs": [],
   "source": [
    "# 必要なライブラリのインポート\n",
    "from sklearn.model_selection import GridSearchCV\n",
    "# 動かすパラメータを明示的に表示\n",
    "params = {\"learning_rate\":[0.1,0.3,0.5],\n",
    "        \"max_depth\": [2,3,5,10],\n",
    "         \"subsample\":[0.5,0.8,0.9,1],\n",
    "         \"colsample_bytree\": [0.5,1.0],\n",
    "         }\n",
    "# モデルにインスタンス生成\n",
    "mod = xgb.XGBRegressor()\n",
    "# ハイパーパラメータ探索\n",
    "cv = GridSearchCV(mod, params, cv = 4, scoring= 'roc_auc', n_jobs =-1, verbose=1)\n",
    "\n",
    "# 予測モデルを作成\n",
    "cv.fit(X_train, y_train)\n",
    "\n",
    "#予測    \n",
    "y_pred = cv.predict(X_eval)"
   ]
  },
  {
   "cell_type": "code",
   "execution_count": null,
   "metadata": {},
   "outputs": [],
   "source": [
    "y_pred[0:10]"
   ]
  },
  {
   "cell_type": "code",
   "execution_count": null,
   "metadata": {},
   "outputs": [],
   "source": []
  }
 ],
 "metadata": {
  "kernelspec": {
   "display_name": "Python 3",
   "language": "python",
   "name": "python3"
  },
  "language_info": {
   "codemirror_mode": {
    "name": "ipython",
    "version": 3
   },
   "file_extension": ".py",
   "mimetype": "text/x-python",
   "name": "python",
   "nbconvert_exporter": "python",
   "pygments_lexer": "ipython3",
   "version": "3.6.6"
  }
 },
 "nbformat": 4,
 "nbformat_minor": 2
}
