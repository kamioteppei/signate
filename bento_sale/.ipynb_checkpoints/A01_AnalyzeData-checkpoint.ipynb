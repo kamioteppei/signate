{
 "cells": [
  {
   "cell_type": "code",
   "execution_count": 1,
   "metadata": {},
   "outputs": [],
   "source": [
    "import pandas as pd\n",
    "import numpy as np\n",
    "from sklearn.ensemble import RandomForestClassifier\n",
    "from sklearn.model_selection import GridSearchCV\n",
    "from sklearn.svm import SVC\n",
    "from sklearn import metrics\n",
    "from sklearn.model_selection import cross_validate\n",
    "from xgboost import XGBClassifier\n",
    "%matplotlib inline\n",
    "import matplotlib.pyplot as plt\n",
    "from sklearn.preprocessing import LabelEncoder\n",
    "import seaborn as sns"
   ]
  },
  {
   "cell_type": "code",
   "execution_count": 2,
   "metadata": {},
   "outputs": [
    {
     "name": "stdout",
     "output_type": "stream",
     "text": [
      "<class 'pandas.core.frame.DataFrame'>\n",
      "RangeIndex: 207 entries, 0 to 206\n",
      "Data columns (total 12 columns):\n",
      "datetime         207 non-null object\n",
      "y                207 non-null int64\n",
      "week             207 non-null object\n",
      "soldout          207 non-null int64\n",
      "name             207 non-null object\n",
      "kcal             166 non-null float64\n",
      "remarks          21 non-null object\n",
      "event            14 non-null object\n",
      "payday           10 non-null float64\n",
      "weather          207 non-null object\n",
      "precipitation    207 non-null object\n",
      "temperature      207 non-null float64\n",
      "dtypes: float64(3), int64(2), object(7)\n",
      "memory usage: 19.5+ KB\n"
     ]
    }
   ],
   "source": [
    "train_df = pd.read_csv(\"./Data/train.csv\")\n",
    "train_df.info()"
   ]
  },
  {
   "cell_type": "code",
   "execution_count": null,
   "metadata": {
    "scrolled": true
   },
   "outputs": [],
   "source": [
    "#train_df[train_df['project_is_approved']==1].head(100)"
   ]
  },
  {
   "cell_type": "code",
   "execution_count": null,
   "metadata": {},
   "outputs": [],
   "source": [
    "#train_df[train_df['project_is_approved']==0].head(100)"
   ]
  },
  {
   "cell_type": "code",
   "execution_count": 3,
   "metadata": {},
   "outputs": [
    {
     "data": {
      "text/plain": [
       "datetime           0\n",
       "y                  0\n",
       "week               0\n",
       "soldout            0\n",
       "name               0\n",
       "kcal              41\n",
       "remarks          186\n",
       "event            193\n",
       "payday           197\n",
       "weather            0\n",
       "precipitation      0\n",
       "temperature        0\n",
       "dtype: int64"
      ]
     },
     "execution_count": 3,
     "metadata": {},
     "output_type": "execute_result"
    }
   ],
   "source": [
    "train_df.isnull().sum()"
   ]
  },
  {
   "cell_type": "code",
   "execution_count": 4,
   "metadata": {},
   "outputs": [
    {
     "data": {
      "text/html": [
       "<div>\n",
       "<style scoped>\n",
       "    .dataframe tbody tr th:only-of-type {\n",
       "        vertical-align: middle;\n",
       "    }\n",
       "\n",
       "    .dataframe tbody tr th {\n",
       "        vertical-align: top;\n",
       "    }\n",
       "\n",
       "    .dataframe thead th {\n",
       "        text-align: right;\n",
       "    }\n",
       "</style>\n",
       "<table border=\"1\" class=\"dataframe\">\n",
       "  <thead>\n",
       "    <tr style=\"text-align: right;\">\n",
       "      <th></th>\n",
       "      <th>y</th>\n",
       "      <th>soldout</th>\n",
       "      <th>kcal</th>\n",
       "      <th>payday</th>\n",
       "      <th>temperature</th>\n",
       "    </tr>\n",
       "  </thead>\n",
       "  <tbody>\n",
       "    <tr>\n",
       "      <th>y</th>\n",
       "      <td>1.000000</td>\n",
       "      <td>0.098308</td>\n",
       "      <td>0.147269</td>\n",
       "      <td>NaN</td>\n",
       "      <td>-0.655332</td>\n",
       "    </tr>\n",
       "    <tr>\n",
       "      <th>soldout</th>\n",
       "      <td>0.098308</td>\n",
       "      <td>1.000000</td>\n",
       "      <td>0.048633</td>\n",
       "      <td>NaN</td>\n",
       "      <td>-0.156752</td>\n",
       "    </tr>\n",
       "    <tr>\n",
       "      <th>kcal</th>\n",
       "      <td>0.147269</td>\n",
       "      <td>0.048633</td>\n",
       "      <td>1.000000</td>\n",
       "      <td>NaN</td>\n",
       "      <td>-0.046191</td>\n",
       "    </tr>\n",
       "    <tr>\n",
       "      <th>payday</th>\n",
       "      <td>NaN</td>\n",
       "      <td>NaN</td>\n",
       "      <td>NaN</td>\n",
       "      <td>NaN</td>\n",
       "      <td>NaN</td>\n",
       "    </tr>\n",
       "    <tr>\n",
       "      <th>temperature</th>\n",
       "      <td>-0.655332</td>\n",
       "      <td>-0.156752</td>\n",
       "      <td>-0.046191</td>\n",
       "      <td>NaN</td>\n",
       "      <td>1.000000</td>\n",
       "    </tr>\n",
       "  </tbody>\n",
       "</table>\n",
       "</div>"
      ],
      "text/plain": [
       "                    y   soldout      kcal  payday  temperature\n",
       "y            1.000000  0.098308  0.147269     NaN    -0.655332\n",
       "soldout      0.098308  1.000000  0.048633     NaN    -0.156752\n",
       "kcal         0.147269  0.048633  1.000000     NaN    -0.046191\n",
       "payday            NaN       NaN       NaN     NaN          NaN\n",
       "temperature -0.655332 -0.156752 -0.046191     NaN     1.000000"
      ]
     },
     "execution_count": 4,
     "metadata": {},
     "output_type": "execute_result"
    }
   ],
   "source": [
    "train_corr = train_df.corr()\n",
    "train_corr"
   ]
  },
  {
   "cell_type": "code",
   "execution_count": null,
   "metadata": {},
   "outputs": [],
   "source": [
    "train_df[\"teacher_id\"].unique().size"
   ]
  },
  {
   "cell_type": "code",
   "execution_count": null,
   "metadata": {},
   "outputs": [],
   "source": [
    "train_df[\"project_grade_category\"].unique()"
   ]
  },
  {
   "cell_type": "markdown",
   "metadata": {},
   "source": [
    "USのGradesの詳細を調査\n",
    "\n",
    "| Age | US Grades | School | encode value |\n",
    "|----|----|----|----|\n",
    "| 4-5 | Pre-Kindergarten | Early Childhood | 0 |\n",
    "| 5-6 | Kindergarten | Early Childhood | 0 |\n",
    "| 6-7 | 1st Grade | Lower School | 0 |\n",
    "| 7-8 | 2st Grade | Lower School | 0 |\n",
    "| 8-9 | 3st Grade | Lower School | 1 |\n",
    "| 9-10 | 4st Grade | Lower School | 1 |\n",
    "| 10-11 | 5st Grade | Middle School | 1 |\n",
    "| 11-12 | 6st Grade | Middle School | 2 |\n",
    "| 12-13 | 7st Grade | Middle School | 2 |\n",
    "| 13-14 | 8st Grade | Middle School | 2 |\n",
    "| 14-15 | 9st Grade | High School | 3 |\n",
    "| 15-16 | 10st Grade | High School | 3 |\n",
    "| 16-17 | 11st Grade | High School | 3 |\n",
    "| 17-18 | 12st Grade | High School | 3 |\n",
    "\n",
    "project_grade_categoryをカテゴリ値にencodingする。"
   ]
  },
  {
   "cell_type": "code",
   "execution_count": null,
   "metadata": {},
   "outputs": [],
   "source": [
    "train_df[\"school_state\"].unique()"
   ]
  },
  {
   "cell_type": "code",
   "execution_count": null,
   "metadata": {},
   "outputs": [],
   "source": [
    "train_df[\"teacher_prefix\"].unique()"
   ]
  },
  {
   "cell_type": "code",
   "execution_count": null,
   "metadata": {},
   "outputs": [],
   "source": [
    "train_df[\"project_subject_categories\"].unique()"
   ]
  },
  {
   "cell_type": "code",
   "execution_count": null,
   "metadata": {},
   "outputs": [],
   "source": [
    "from my_modules.my_encoder import CategoryValueEncoder as CVE\n",
    "from my_modules.my_encoder import TextValueEncoder as TVE\n",
    "from my_modules.my_encoder import DateValueEncoder as DVE\n",
    "from my_modules.my_encoder import NumericValueEncoder as NVE\n",
    "\n",
    "train_df_encode = pd.DataFrame()\n",
    "train_df_encode = pd.concat([train_df_encode,\n",
    "                            train_df['id'],                             \n",
    "                            train_df['project_is_approved'],\n",
    "                            CVE(train_df['project_grade_category']).to_binary_encoding(),\n",
    "                            CVE(train_df['school_state']).to_binary_encoding(),\n",
    "                            CVE(train_df['teacher_prefix']).to_binary_encoding(),\n",
    "                            CVE(DVE(train_df['project_submitted_datetime']).to_year()).to_binary_encoding(),\n",
    "                            CVE(DVE(train_df['project_submitted_datetime']).to_month()).to_binary_encoding(),\n",
    "                            CVE(DVE(train_df['project_submitted_datetime']).to_day()).to_binary_encoding(),\n",
    "                            CVE(DVE(train_df['project_submitted_datetime']).to_dayofweek()).to_binary_encoding(),\n",
    "                            TVE(train_df['project_subject_categories']).to_bow_encoding(),\n",
    "                            TVE(train_df['project_subject_subcategories']).to_bow_encoding(),  \n",
    "                            #TVE(train_df['project_title']).to_bow_encoding(),  \n",
    "                            NVE(train_df['teacher_number_of_previously_posted_projects']).normalize()                          \n",
    "                           ], axis=1) "
   ]
  },
  {
   "cell_type": "code",
   "execution_count": null,
   "metadata": {},
   "outputs": [],
   "source": [
    "# train_df = pd.concat([train_df, TVE(train_df['project_title']).to_bow_encoding()], axis=1)\n",
    "# MemoryError:\n",
    "# 30000データ投入で、10000語程度できる。語幹が同じ単語も多い。"
   ]
  },
  {
   "cell_type": "code",
   "execution_count": null,
   "metadata": {},
   "outputs": [],
   "source": [
    "#この項目を追加すると、正解率15%になる。数値が大きいから？\n",
    "#train_df_encode = pd.concat([train_df_encode, train_df['teacher_number_of_previously_posted_projects']], axis=1) "
   ]
  },
  {
   "cell_type": "code",
   "execution_count": null,
   "metadata": {},
   "outputs": [],
   "source": [
    "train_df_encode.info()"
   ]
  },
  {
   "cell_type": "code",
   "execution_count": null,
   "metadata": {},
   "outputs": [],
   "source": [
    "train_df_encode.head(5)"
   ]
  },
  {
   "cell_type": "code",
   "execution_count": null,
   "metadata": {},
   "outputs": [],
   "source": [
    "train_df_encode.to_csv(\"train_df_encode.csv\", index=False)"
   ]
  },
  {
   "cell_type": "code",
   "execution_count": null,
   "metadata": {},
   "outputs": [],
   "source": []
  }
 ],
 "metadata": {
  "kernelspec": {
   "display_name": "Python 3",
   "language": "python",
   "name": "python3"
  },
  "language_info": {
   "codemirror_mode": {
    "name": "ipython",
    "version": 3
   },
   "file_extension": ".py",
   "mimetype": "text/x-python",
   "name": "python",
   "nbconvert_exporter": "python",
   "pygments_lexer": "ipython3",
   "version": "3.6.6"
  }
 },
 "nbformat": 4,
 "nbformat_minor": 2
}
