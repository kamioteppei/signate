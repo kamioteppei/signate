{
 "cells": [
  {
   "cell_type": "code",
   "execution_count": 1,
   "metadata": {},
   "outputs": [],
   "source": [
    "import pandas as pd\n",
    "import numpy as np\n",
    "from sklearn.ensemble import RandomForestClassifier\n",
    "from sklearn.model_selection import GridSearchCV\n",
    "from sklearn.svm import SVC\n",
    "from sklearn import metrics\n",
    "from sklearn.model_selection import cross_validate\n",
    "from xgboost import XGBClassifier\n",
    "%matplotlib inline\n",
    "import matplotlib.pyplot as plt\n",
    "from sklearn.preprocessing import LabelEncoder\n",
    "import seaborn as sns"
   ]
  },
  {
   "cell_type": "code",
   "execution_count": 2,
   "metadata": {},
   "outputs": [
    {
     "name": "stdout",
     "output_type": "stream",
     "text": [
      "<class 'pandas.core.frame.DataFrame'>\n",
      "RangeIndex: 89 entries, 0 to 88\n",
      "Data columns (total 1 columns):\n",
      "id\tY\tAlcohol\tMalic acid\tAsh\tAlcalinity of ash\tMagnesium\tTotal phenols\tFlavanoids\tNonflavanoid phenols\tProanthocyanins\tColor intensity\tHue\tOD280/OD315 of diluted wines\tProline    89 non-null object\n",
      "dtypes: object(1)\n",
      "memory usage: 792.0+ bytes\n"
     ]
    }
   ],
   "source": [
    "train_df = pd.read_csv(\"./data/train.tsv\")\n",
    "train_df.info()"
   ]
  },
  {
   "cell_type": "code",
   "execution_count": 3,
   "metadata": {
    "scrolled": true
   },
   "outputs": [
    {
     "data": {
      "text/html": [
       "<div>\n",
       "<style scoped>\n",
       "    .dataframe tbody tr th:only-of-type {\n",
       "        vertical-align: middle;\n",
       "    }\n",
       "\n",
       "    .dataframe tbody tr th {\n",
       "        vertical-align: top;\n",
       "    }\n",
       "\n",
       "    .dataframe thead th {\n",
       "        text-align: right;\n",
       "    }\n",
       "</style>\n",
       "<table border=\"1\" class=\"dataframe\">\n",
       "  <thead>\n",
       "    <tr style=\"text-align: right;\">\n",
       "      <th></th>\n",
       "      <th>id\tY\tAlcohol\tMalic acid\tAsh\tAlcalinity of ash\tMagnesium\tTotal phenols\tFlavanoids\tNonflavanoid phenols\tProanthocyanins\tColor intensity\tHue\tOD280/OD315 of diluted wines\tProline</th>\n",
       "    </tr>\n",
       "  </thead>\n",
       "  <tbody>\n",
       "    <tr>\n",
       "      <th>0</th>\n",
       "      <td>0\\t3\\t12.36\\t3.83\\t2.38\\t21.0\\t88\\t2.3\\t0.92\\t...</td>\n",
       "    </tr>\n",
       "    <tr>\n",
       "      <th>1</th>\n",
       "      <td>1\\t2\\t12.42\\t4.43\\t2.73\\t26.5\\t102\\t2.2\\t2.13\\...</td>\n",
       "    </tr>\n",
       "    <tr>\n",
       "      <th>2</th>\n",
       "      <td>3\\t1\\t13.05\\t1.77\\t2.1\\t17.0\\t107\\t3.0\\t3.0\\t0...</td>\n",
       "    </tr>\n",
       "    <tr>\n",
       "      <th>3</th>\n",
       "      <td>6\\t1\\t13.05\\t1.65\\t2.55\\t18.0\\t98\\t2.45\\t2.43\\...</td>\n",
       "    </tr>\n",
       "    <tr>\n",
       "      <th>4</th>\n",
       "      <td>9\\t1\\t13.05\\t2.05\\t3.22\\t25.0\\t124\\t2.63\\t2.68...</td>\n",
       "    </tr>\n",
       "    <tr>\n",
       "      <th>5</th>\n",
       "      <td>11\\t3\\t12.93\\t2.81\\t2.7\\t21.0\\t96\\t1.54\\t0.5\\t...</td>\n",
       "    </tr>\n",
       "    <tr>\n",
       "      <th>6</th>\n",
       "      <td>12\\t3\\t13.36\\t2.56\\t2.35\\t20.0\\t89\\t1.4\\t0.5\\t...</td>\n",
       "    </tr>\n",
       "    <tr>\n",
       "      <th>7</th>\n",
       "      <td>13\\t2\\t12.29\\t1.41\\t1.98\\t16.0\\t85\\t2.55\\t2.5\\...</td>\n",
       "    </tr>\n",
       "    <tr>\n",
       "      <th>8</th>\n",
       "      <td>14\\t1\\t13.07\\t1.5\\t2.1\\t15.5\\t98\\t2.4\\t2.64\\t0...</td>\n",
       "    </tr>\n",
       "    <tr>\n",
       "      <th>9</th>\n",
       "      <td>15\\t1\\t13.74\\t1.67\\t2.25\\t16.4\\t118\\t2.6\\t2.9\\...</td>\n",
       "    </tr>\n",
       "  </tbody>\n",
       "</table>\n",
       "</div>"
      ],
      "text/plain": [
       "  id\\tY\\tAlcohol\\tMalic acid\\tAsh\\tAlcalinity of ash\\tMagnesium\\tTotal phenols\\tFlavanoids\\tNonflavanoid phenols\\tProanthocyanins\\tColor intensity\\tHue\\tOD280/OD315 of diluted wines\\tProline\n",
       "0  0\\t3\\t12.36\\t3.83\\t2.38\\t21.0\\t88\\t2.3\\t0.92\\t...                                                                                                                                          \n",
       "1  1\\t2\\t12.42\\t4.43\\t2.73\\t26.5\\t102\\t2.2\\t2.13\\...                                                                                                                                          \n",
       "2  3\\t1\\t13.05\\t1.77\\t2.1\\t17.0\\t107\\t3.0\\t3.0\\t0...                                                                                                                                          \n",
       "3  6\\t1\\t13.05\\t1.65\\t2.55\\t18.0\\t98\\t2.45\\t2.43\\...                                                                                                                                          \n",
       "4  9\\t1\\t13.05\\t2.05\\t3.22\\t25.0\\t124\\t2.63\\t2.68...                                                                                                                                          \n",
       "5  11\\t3\\t12.93\\t2.81\\t2.7\\t21.0\\t96\\t1.54\\t0.5\\t...                                                                                                                                          \n",
       "6  12\\t3\\t13.36\\t2.56\\t2.35\\t20.0\\t89\\t1.4\\t0.5\\t...                                                                                                                                          \n",
       "7  13\\t2\\t12.29\\t1.41\\t1.98\\t16.0\\t85\\t2.55\\t2.5\\...                                                                                                                                          \n",
       "8  14\\t1\\t13.07\\t1.5\\t2.1\\t15.5\\t98\\t2.4\\t2.64\\t0...                                                                                                                                          \n",
       "9  15\\t1\\t13.74\\t1.67\\t2.25\\t16.4\\t118\\t2.6\\t2.9\\...                                                                                                                                          "
      ]
     },
     "execution_count": 3,
     "metadata": {},
     "output_type": "execute_result"
    }
   ],
   "source": [
    "train_df.head(10)"
   ]
  },
  {
   "cell_type": "code",
   "execution_count": null,
   "metadata": {},
   "outputs": [],
   "source": [
    "train_df[train_df['project_is_approved']==0].head(100)"
   ]
  },
  {
   "cell_type": "code",
   "execution_count": null,
   "metadata": {},
   "outputs": [],
   "source": [
    "train_df.isnull().sum()"
   ]
  },
  {
   "cell_type": "code",
   "execution_count": null,
   "metadata": {},
   "outputs": [],
   "source": [
    "train_corr = train_df.corr()\n",
    "train_corr"
   ]
  },
  {
   "cell_type": "code",
   "execution_count": null,
   "metadata": {},
   "outputs": [],
   "source": [
    "train_df[\"teacher_id\"].unique().size"
   ]
  },
  {
   "cell_type": "code",
   "execution_count": null,
   "metadata": {},
   "outputs": [],
   "source": [
    "train_df[\"project_grade_category\"].unique()"
   ]
  },
  {
   "cell_type": "markdown",
   "metadata": {},
   "source": [
    "USのGradesの詳細を調査\n",
    "\n",
    "| Age | US Grades | School | encode value |\n",
    "|----|----|----|----|\n",
    "| 4-5 | Pre-Kindergarten | Early Childhood | 0 |\n",
    "| 5-6 | Kindergarten | Early Childhood | 0 |\n",
    "| 6-7 | 1st Grade | Lower School | 0 |\n",
    "| 7-8 | 2st Grade | Lower School | 0 |\n",
    "| 8-9 | 3st Grade | Lower School | 1 |\n",
    "| 9-10 | 4st Grade | Lower School | 1 |\n",
    "| 10-11 | 5st Grade | Middle School | 1 |\n",
    "| 11-12 | 6st Grade | Middle School | 2 |\n",
    "| 12-13 | 7st Grade | Middle School | 2 |\n",
    "| 13-14 | 8st Grade | Middle School | 2 |\n",
    "| 14-15 | 9st Grade | High School | 3 |\n",
    "| 15-16 | 10st Grade | High School | 3 |\n",
    "| 16-17 | 11st Grade | High School | 3 |\n",
    "| 17-18 | 12st Grade | High School | 3 |\n",
    "\n",
    "project_grade_categoryをカテゴリ値にencodingする。"
   ]
  },
  {
   "cell_type": "code",
   "execution_count": null,
   "metadata": {},
   "outputs": [],
   "source": [
    "train_df[\"school_state\"].unique()"
   ]
  },
  {
   "cell_type": "code",
   "execution_count": null,
   "metadata": {},
   "outputs": [],
   "source": [
    "train_df[\"teacher_prefix\"].unique()"
   ]
  },
  {
   "cell_type": "code",
   "execution_count": null,
   "metadata": {},
   "outputs": [],
   "source": [
    "train_df[\"project_subject_categories\"].unique()"
   ]
  },
  {
   "cell_type": "code",
   "execution_count": null,
   "metadata": {},
   "outputs": [],
   "source": [
    "from my_modules.my_encoder import CategoryValueEncoder as CVE\n",
    "from my_modules.my_encoder import TextValueEncoder as TVE\n",
    "from my_modules.my_encoder import DateValueEncoder as DVE\n",
    "from my_modules.my_encoder import NumericValueEncoder as NVE\n",
    "\n",
    "train_df_encode = pd.DataFrame()\n",
    "train_df_encode = pd.concat([train_df_encode,\n",
    "                            train_df['project_is_approved'],\n",
    "                            CVE(train_df['project_grade_category']).to_binary_encoding(),\n",
    "                            CVE(train_df['school_state']).to_binary_encoding(),\n",
    "                            CVE(train_df['teacher_prefix']).to_binary_encoding(),\n",
    "                            CVE(DVE(train_df['project_submitted_datetime']).to_year()).to_binary_encoding(),\n",
    "                            CVE(DVE(train_df['project_submitted_datetime']).to_month()).to_binary_encoding(),\n",
    "                            CVE(DVE(train_df['project_submitted_datetime']).to_day()).to_binary_encoding(),\n",
    "                            CVE(DVE(train_df['project_submitted_datetime']).to_dayofweek()).to_binary_encoding(),\n",
    "                            TVE(train_df['project_subject_categories']).to_bow_encoding(),\n",
    "                            TVE(train_df['project_subject_subcategories']).to_bow_encoding(),  \n",
    "                            NVE(train_df['teacher_number_of_previously_posted_projects']).normalize()                          \n",
    "                           ], axis=1) "
   ]
  },
  {
   "cell_type": "code",
   "execution_count": null,
   "metadata": {},
   "outputs": [],
   "source": [
    "# train_df = pd.concat([train_df, TVE(train_df['project_title']).to_bow_encoding()], axis=1)\n",
    "# MemoryError:"
   ]
  },
  {
   "cell_type": "code",
   "execution_count": null,
   "metadata": {},
   "outputs": [],
   "source": [
    "#この項目を追加すると、正解率15%になる。数値が大きいから？\n",
    "#train_df_encode = pd.concat([train_df_encode, train_df['teacher_number_of_previously_posted_projects']], axis=1) "
   ]
  },
  {
   "cell_type": "code",
   "execution_count": null,
   "metadata": {},
   "outputs": [],
   "source": [
    "train_df_encode.info()"
   ]
  },
  {
   "cell_type": "code",
   "execution_count": null,
   "metadata": {},
   "outputs": [],
   "source": [
    "train_df_encode.head(5)"
   ]
  },
  {
   "cell_type": "code",
   "execution_count": null,
   "metadata": {},
   "outputs": [],
   "source": [
    "train_df_encode.to_csv(\"train_df_encode.csv\", index=False)"
   ]
  },
  {
   "cell_type": "code",
   "execution_count": null,
   "metadata": {},
   "outputs": [],
   "source": []
  }
 ],
 "metadata": {
  "kernelspec": {
   "display_name": "Python 3",
   "language": "python",
   "name": "python3"
  },
  "language_info": {
   "codemirror_mode": {
    "name": "ipython",
    "version": 3
   },
   "file_extension": ".py",
   "mimetype": "text/x-python",
   "name": "python",
   "nbconvert_exporter": "python",
   "pygments_lexer": "ipython3",
   "version": "3.6.6"
  }
 },
 "nbformat": 4,
 "nbformat_minor": 2
}
