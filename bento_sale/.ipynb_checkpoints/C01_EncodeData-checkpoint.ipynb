{
 "cells": [
  {
   "cell_type": "code",
   "execution_count": 1,
   "metadata": {},
   "outputs": [],
   "source": [
    "import pandas as pd\n",
    "import numpy as np\n",
    "from sklearn.ensemble import RandomForestClassifier\n",
    "from sklearn.model_selection import GridSearchCV\n",
    "from sklearn.svm import SVC\n",
    "from sklearn import metrics\n",
    "from sklearn.model_selection import cross_validate\n",
    "from xgboost import XGBClassifier\n",
    "%matplotlib inline\n",
    "import matplotlib.pyplot as plt\n",
    "from sklearn.preprocessing import LabelEncoder\n",
    "import seaborn as sns"
   ]
  },
  {
   "cell_type": "code",
   "execution_count": 2,
   "metadata": {},
   "outputs": [
    {
     "name": "stdout",
     "output_type": "stream",
     "text": [
      "<class 'pandas.core.frame.DataFrame'>\n",
      "RangeIndex: 247 entries, 0 to 246\n",
      "Data columns (total 12 columns):\n",
      "datetime         247 non-null object\n",
      "y                207 non-null float64\n",
      "week             247 non-null object\n",
      "soldout          247 non-null int64\n",
      "name             247 non-null object\n",
      "kcal             202 non-null float64\n",
      "remarks          28 non-null object\n",
      "event            17 non-null object\n",
      "payday           12 non-null float64\n",
      "weather          247 non-null object\n",
      "precipitation    247 non-null object\n",
      "temperature      247 non-null float64\n",
      "dtypes: float64(4), int64(1), object(7)\n",
      "memory usage: 23.2+ KB\n"
     ]
    }
   ],
   "source": [
    "train_test_df = pd.read_csv(\"./B02.csv\")\n",
    "train_test_df.info()"
   ]
  },
  {
   "cell_type": "code",
   "execution_count": 3,
   "metadata": {},
   "outputs": [
    {
     "data": {
      "text/plain": [
       "datetime           0\n",
       "y                 40\n",
       "week               0\n",
       "soldout            0\n",
       "name               0\n",
       "kcal              45\n",
       "remarks          219\n",
       "event            230\n",
       "payday           235\n",
       "weather            0\n",
       "precipitation      0\n",
       "temperature        0\n",
       "dtype: int64"
      ]
     },
     "execution_count": 3,
     "metadata": {},
     "output_type": "execute_result"
    }
   ],
   "source": [
    "train_test_df.isnull().sum()"
   ]
  },
  {
   "cell_type": "code",
   "execution_count": null,
   "metadata": {},
   "outputs": [],
   "source": [
    "train_corr = train_test_df.corr()\n",
    "train_corr"
   ]
  },
  {
   "cell_type": "code",
   "execution_count": null,
   "metadata": {},
   "outputs": [],
   "source": [
    "encode_df = pd.DataFrame()\n",
    "encode_df = pd.concat([encode_df,\n",
    "                            train_test_df['id'],                             \n",
    "                            train_test_df['project_is_approved'],\n",
    "                            CVE(train_test_df['project_grade_category']).to_one_hot_encoding(),\n",
    "                            CVE(train_test_df['school_state']).to_one_hot_encoding(),\n",
    "                            CVE(train_test_df['teacher_prefix']).to_one_hot_encoding(),\n",
    "                            CVE(DVE(train_test_df['project_submitted_datetime']).to_year()).to_one_hot_encoding(),\n",
    "                            CVE(DVE(train_test_df['project_submitted_datetime']).to_month()).to_one_hot_encoding(),\n",
    "                            CVE(DVE(train_test_df['project_submitted_datetime']).to_day()).to_one_hot_encoding(),\n",
    "                            CVE(DVE(train_test_df['project_submitted_datetime']).to_dayofweek()).to_one_hot_encoding(),\n",
    "                            TVE(train_test_df['project_subject_categories']).to_bow_encoding(),\n",
    "                            TVE(train_test_df['project_subject_subcategories']).to_bow_encoding(),  \n",
    "                            NVE(train_test_df['teacher_number_of_previously_posted_projects']).normalize(),\n",
    "                            NVE(train_test_df['total_quantity']).normalize(),                   \n",
    "                            NVE(train_test_df['total_price']).normalize(),                   \n",
    "                            NVE(train_test_df['cnt_by_id']).normalize(),                   \n",
    "                            project_title,\n",
    "                            project_essay_1,\n",
    "                            project_essay_2,\n",
    "                            project_essay_3,\n",
    "                            project_essay_4,\n",
    "                            project_resource_summary,\n",
    "                            description\n",
    "                           ], axis=1) "
   ]
  },
  {
   "cell_type": "code",
   "execution_count": null,
   "metadata": {},
   "outputs": [],
   "source": [
    "encode_df.info()"
   ]
  },
  {
   "cell_type": "code",
   "execution_count": null,
   "metadata": {},
   "outputs": [],
   "source": [
    "encode_df.head(5)"
   ]
  },
  {
   "cell_type": "code",
   "execution_count": null,
   "metadata": {},
   "outputs": [],
   "source": [
    "encode_df[182070:182090]"
   ]
  },
  {
   "cell_type": "code",
   "execution_count": null,
   "metadata": {},
   "outputs": [],
   "source": [
    "train_df = encode_df[:182080]"
   ]
  },
  {
   "cell_type": "code",
   "execution_count": null,
   "metadata": {},
   "outputs": [],
   "source": [
    "train_df.to_csv(\"C01_train_encoded.csv\", index=False)"
   ]
  },
  {
   "cell_type": "code",
   "execution_count": null,
   "metadata": {},
   "outputs": [],
   "source": [
    "test_df = encode_df[182080:]"
   ]
  },
  {
   "cell_type": "code",
   "execution_count": null,
   "metadata": {},
   "outputs": [],
   "source": [
    "test_df.to_csv(\"C01_test_encoded.csv\", index=False)"
   ]
  }
 ],
 "metadata": {
  "kernelspec": {
   "display_name": "Python 3",
   "language": "python",
   "name": "python3"
  },
  "language_info": {
   "codemirror_mode": {
    "name": "ipython",
    "version": 3
   },
   "file_extension": ".py",
   "mimetype": "text/x-python",
   "name": "python",
   "nbconvert_exporter": "python",
   "pygments_lexer": "ipython3",
   "version": "3.6.6"
  }
 },
 "nbformat": 4,
 "nbformat_minor": 2
}
